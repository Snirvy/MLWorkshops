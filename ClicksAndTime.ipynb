{
  "nbformat": 4,
  "nbformat_minor": 0,
  "metadata": {
    "colab": {
      "provenance": []
    },
    "kernelspec": {
      "name": "python3",
      "display_name": "Python 3"
    },
    "language_info": {
      "name": "python"
    }
  },
  "cells": [
    {
      "cell_type": "markdown",
      "source": [
        "# **Subscription Classifier**\n",
        "\n",
        "\n",
        "In this notebook we will create a dataset of hypothetical customer data of a website. We want to find out which combination of demographics and behaviour leads to customers signing on for a subscription. \n",
        "\n",
        "**Features**\n",
        "\n",
        "1) Age\n",
        "\n",
        "2) Gender\n",
        "\n",
        "3) Time spent on website (total)\n",
        "\n",
        "4) Time spent on website (average session)\n",
        "\n",
        "5) Amount of clicks (total)\n",
        "\n",
        "6) Amount of clicks (average session)\n",
        "\n",
        "7) Purchases made (total, euros)\n",
        "\n",
        "8) Purchases made (average session, euros)\n",
        "\n",
        "9) Advertisements watched (total, minutes)\n",
        "\n",
        "10) Advertisements watched (average session, minutes)\n",
        " \n"
      ],
      "metadata": {
        "id": "NkV31rTch4fT"
      }
    },
    {
      "cell_type": "code",
      "execution_count": 1,
      "metadata": {
        "id": "9V2lRv4dVLWz"
      },
      "outputs": [],
      "source": [
        "# importing libraries, etc...\n",
        "\n",
        "import pandas as pd\n",
        "import seaborn as sns\n",
        "import numpy as np\n",
        "import matplotlib.pyplot as plt\n",
        "%matplotlib inline\n",
        "sns.set()\n"
      ]
    },
    {
      "cell_type": "code",
      "source": [
        "#Creating the Dataset\n",
        "customers = 100\n",
        "age = np.random.normal(25, 5, customers) #25 is mean, 5 is standard deviation\n",
        "\n",
        "genders = [0,1,2]\n",
        "gender = np.random.choice(genders, customers, p=[0.4,0.5,0.1]) #generating male female and nonbinary with varied probabilities\n",
        "\n",
        "time_total = abs(np.random.normal(500, 10000, customers)) #generating time in minutes\n",
        "time_average = abs(np.random.normal(20, 50, customers)) #same here\n",
        "\n",
        "clicks_total = abs(np.random.normal(300, 1000, customers)).round(0) #clicks are rounded to full numbers\n",
        "clicks_average = abs(np.random.normal(50, 200, customers)).round(0)\n",
        "\n",
        "purchases_total = abs(np.random.normal(300, 1000000, customers)) #absolute value for purchases in euros\n",
        "purchases_average = abs(np.random.normal(20, 200, customers))\n",
        "\n",
        "ads_total = abs(np.random.normal(100, 400, customers)) #advertisements watched in minutes\n",
        "ads_average = abs(np.random.normal(5, 2, customers))\n"
      ],
      "metadata": {
        "id": "6Q8jmA9WjaOb"
      },
      "execution_count": 2,
      "outputs": []
    },
    {
      "cell_type": "code",
      "source": [
        "fig, (ax1, ax2) = plt.subplots(1,2)\n",
        "fig.suptitle('Customer Data')\n",
        "\n",
        "ax1.hist(age);\n",
        "ax1.set_title('Age')\n",
        "ax1.set_ylabel('Frequency')\n",
        "ax1.set_xlabel('Age')\n",
        "\n",
        "ax2.hist(gender);\n",
        "ax2.set_title('Gender')\n",
        "ax2.set_ylabel('Frequency')\n",
        "ax2.set_xlabel('Identity')\n",
        "\n",
        "\n",
        "\n"
      ],
      "metadata": {
        "colab": {
          "base_uri": "https://localhost:8080/",
          "height": 331
        },
        "id": "C74uNxutoMvz",
        "outputId": "3ed4dfac-5ad6-49bb-97b7-b002ada0e87d"
      },
      "execution_count": 3,
      "outputs": [
        {
          "output_type": "execute_result",
          "data": {
            "text/plain": [
              "Text(0.5, 0, 'Identity')"
            ]
          },
          "metadata": {},
          "execution_count": 3
        },
        {
          "output_type": "display_data",
          "data": {
            "text/plain": [
              "<Figure size 432x288 with 2 Axes>"
            ],
            "image/png": "[encoded data removed]"
          },
          "metadata": {}
        }
      ]
    },
    {
      "cell_type": "code",
      "source": [
        "fig, (ax1, ax2) = plt.subplots(1,2)\n",
        "fig.suptitle('Usage Time')\n",
        "\n",
        "ax1.hist(time_total);\n",
        "ax1.set_title('Total')\n",
        "ax1.set_ylabel('Frequency')\n",
        "ax1.set_xlabel('Minutes')\n",
        "\n",
        "ax2.hist(time_average);\n",
        "ax2.set_title('Average')\n",
        "ax2.set_ylabel('Frequency')\n",
        "ax2.set_xlabel('Minutes')"
      ],
      "metadata": {
        "colab": {
          "base_uri": "https://localhost:8080/",
          "height": 331
        },
        "id": "U-pUnofxpVrc",
        "outputId": "f8304482-530c-4f05-9472-137191f975ce"
      },
      "execution_count": 4,
      "outputs": [
        {
          "output_type": "execute_result",
          "data": {
            "text/plain": [
              "Text(0.5, 0, 'Minutes')"
            ]
          },
          "metadata": {},
          "execution_count": 4
        },
        {
          "output_type": "display_data",
          "data": {
            "text/plain": [
              "<Figure size 432x288 with 2 Axes>"
            ],
            "image/png": "[encoded data removed]"
          },
          "metadata": {}
        }
      ]
    },
    {
      "cell_type": "code",
      "source": [
        "fig, (ax1, ax2) = plt.subplots(1,2)\n",
        "fig.suptitle('Clicks')\n",
        "\n",
        "\n",
        "ax1.hist(clicks_total);\n",
        "ax1.set_title('Total')\n",
        "ax1.set_ylabel('Frequency')\n",
        "ax1.set_xlabel('Clicks')\n",
        "\n",
        "ax2.hist(clicks_average);\n",
        "ax2.set_title('Average')\n",
        "ax2.set_ylabel('Frequency')\n",
        "ax2.set_xlabel('Clicks')"
      ],
      "metadata": {
        "colab": {
          "base_uri": "https://localhost:8080/",
          "height": 331
        },
        "id": "wPpjc_u_rEec",
        "outputId": "90a17b5d-330f-4a6a-b10b-9526580360e0"
      },
      "execution_count": 5,
      "outputs": [
        {
          "output_type": "execute_result",
          "data": {
            "text/plain": [
              "Text(0.5, 0, 'Clicks')"
            ]
          },
          "metadata": {},
          "execution_count": 5
        },
        {
          "output_type": "display_data",
          "data": {
            "text/plain": [
              "<Figure size 432x288 with 2 Axes>"
            ],
            "image/png": "[encoded data removed]"
          },
          "metadata": {}
        }
      ]
    },
    {
      "cell_type": "code",
      "source": [
        "fig, (ax1, ax2) = plt.subplots(1,2)\n",
        "fig.suptitle('Purchases')\n",
        "\n",
        "\n",
        "ax1.hist(purchases_total);\n",
        "ax1.set_title('Total')\n",
        "ax1.set_ylabel('Frequency')\n",
        "ax1.set_xlabel('Euros Spent')\n",
        "\n",
        "ax2.hist(purchases_average);\n",
        "ax2.set_title('Average')\n",
        "ax2.set_ylabel('Frequency')\n",
        "ax2.set_xlabel('Euros Spent')"
      ],
      "metadata": {
        "colab": {
          "base_uri": "https://localhost:8080/",
          "height": 331
        },
        "id": "eCBJMyAL3QGc",
        "outputId": "295869d0-d5b8-4966-8e7b-2ca4a93d282b"
      },
      "execution_count": 6,
      "outputs": [
        {
          "output_type": "execute_result",
          "data": {
            "text/plain": [
              "Text(0.5, 0, 'Euros Spent')"
            ]
          },
          "metadata": {},
          "execution_count": 6
        },
        {
          "output_type": "display_data",
          "data": {
            "text/plain": [
              "<Figure size 432x288 with 2 Axes>"
            ],
            "image/png": "[encoded data removed]"
          },
          "metadata": {}
        }
      ]
    },
    {
      "cell_type": "code",
      "source": [
        "fig, (ax1, ax2) = plt.subplots(1,2)\n",
        "fig.suptitle('Ad viewing in minutes')\n",
        "\n",
        "ax1.hist(ads_total);\n",
        "ax1.set_title('Total')\n",
        "ax1.set_ylabel('Frequency')\n",
        "ax1.set_xlabel('Minutes')\n",
        "\n",
        "ax2.hist(ads_average);\n",
        "ax2.set_title('Average')\n",
        "ax2.set_ylabel('Frequency')\n",
        "ax2.set_xlabel('Minutes')"
      ],
      "metadata": {
        "colab": {
          "base_uri": "https://localhost:8080/",
          "height": 331
        },
        "id": "YQV5Tl0k3gXE",
        "outputId": "e27e95f2-74d4-4a3d-a82b-f039e4a5452a"
      },
      "execution_count": 7,
      "outputs": [
        {
          "output_type": "execute_result",
          "data": {
            "text/plain": [
              "Text(0.5, 0, 'Minutes')"
            ]
          },
          "metadata": {},
          "execution_count": 7
        },
        {
          "output_type": "display_data",
          "data": {
            "text/plain": [
              "<Figure size 432x288 with 2 Axes>"
            ],
            "image/png": "[encoded data removed]"
          },
          "metadata": {}
        }
      ]
    },
    {
      "cell_type": "code",
      "source": [
        "#now we will add labels whether they are subscribers/premium users or not\n",
        "premium = [0,1] #0 is false, 1 is true\n",
        "premium_users = np.random.choice(premium, customers, p=[0.9,0.1]) #only 10% is subscribed\n",
        "print(premium_users)\n"
      ],
      "metadata": {
        "colab": {
          "base_uri": "https://localhost:8080/"
        },
        "id": "2i2zF3R-nt3T",
        "outputId": "e3f4ca28-0622-4c58-cd60-fcb12df41f3a"
      },
      "execution_count": 8,
      "outputs": [
        {
          "output_type": "stream",
          "name": "stdout",
          "text": [
            "[0 0 0 0 0 0 0 0 0 0 1 0 0 0 0 0 0 0 0 0 0 0 0 0 0 0 0 0 0 0 0 0 0 0 0 0 0\n",
            " 0 0 0 0 0 0 0 0 0 0 0 0 0 0 0 0 0 0 0 0 1 0 0 0 0 0 0 0 0 0 0 0 0 0 0 0 0\n",
            " 0 0 1 1 0 0 0 0 0 0 0 0 0 0 0 0 0 0 0 0 0 0 0 0 0 1]\n"
          ]
        }
      ]
    },
    {
      "cell_type": "code",
      "source": [
        "data = pd.DataFrame({'Age':age, 'Gender':gender, 'TimeTotal' : time_total, 'TimeAvg' : time_average,\n",
        "                     'ClicksTotal':clicks_total, 'ClicksAvg': clicks_average, 'PurchasesTotal': purchases_total,\n",
        "                     'PurchasesAvg': purchases_average, 'AdsTotal': ads_total, 'AdsAvg': ads_average, 'Premium': premium_users})\n",
        "\n",
        "data"
      ],
      "metadata": {
        "colab": {
          "base_uri": "https://localhost:8080/",
          "height": 424
        },
        "id": "4Nl7qsqI2mx0",
        "outputId": "be408302-2618-4c6c-fb7d-af3d8cdb561a"
      },
      "execution_count": 9,
      "outputs": [
        {
          "output_type": "execute_result",
          "data": {
            "text/plain": [
              "          Age  Gender     TimeTotal    TimeAvg  ClicksTotal  ClicksAvg  \\\n",
              "0   27.058324       0    686.953176  36.716438       1366.0      108.0   \n",
              "1   24.716483       1   9836.700023  50.579361        903.0      219.0   \n",
              "2   24.588787       0    732.091851  25.711426        333.0      374.0   \n",
              "3   25.619699       0   2807.789823  56.947566         27.0      185.0   \n",
              "4   25.749110       1   3580.970905  13.555419        230.0        5.0   \n",
              "..        ...     ...           ...        ...          ...        ...   \n",
              "95  18.073433       1  12811.646836  39.078088       1034.0       62.0   \n",
              "96  24.189735       0  24602.377689  21.099473       2169.0      211.0   \n",
              "97  29.501760       0  12984.037726  14.638198       1148.0       44.0   \n",
              "98  24.662502       0  19840.455252  28.730329       1428.0       65.0   \n",
              "99  20.998991       1  18476.145779  68.032003       1245.0       29.0   \n",
              "\n",
              "    PurchasesTotal  PurchasesAvg     AdsTotal    AdsAvg  Premium  \n",
              "0     9.514095e+05     71.742841   682.234899  7.476960        0  \n",
              "1     5.628822e+05    299.025416   223.137972  4.535376        0  \n",
              "2     1.702305e+06    118.555490   453.233162  0.659920        0  \n",
              "3     1.382077e+06     14.608184   395.570572  7.654666        0  \n",
              "4     3.969985e+05     31.023685  1145.042085  3.270058        0  \n",
              "..             ...           ...          ...       ...      ...  \n",
              "95    5.248051e+05    229.838318   674.741876  5.738547        0  \n",
              "96    2.674714e+05     27.391384    91.360327  5.410781        0  \n",
              "97    5.163531e+05    174.320296   178.790845  6.715227        0  \n",
              "98    2.854096e+04    269.701542   551.188697  4.433328        0  \n",
              "99    1.858141e+06    340.792952   644.606043  9.723401        1  \n",
              "\n",
              "[100 rows x 11 columns]"
            ],
            "text/html": [
              "\n",
              "  <div id=\"df-b1f32a9c-6ead-47d3-b81f-0fba6a2b299c\">\n",
              "    <div class=\"colab-df-container\">\n",
              "      <div>\n",
              "<style scoped>\n",
              "    .dataframe tbody tr th:only-of-type {\n",
              "        vertical-align: middle;\n",
              "    }\n",
              "\n",
              "    .dataframe tbody tr th {\n",
              "        vertical-align: top;\n",
              "    }\n",
              "\n",
              "    .dataframe thead th {\n",
              "        text-align: right;\n",
              "    }\n",
              "</style>\n",
              "<table border=\"1\" class=\"dataframe\">\n",
              "  <thead>\n",
              "    <tr style=\"text-align: right;\">\n",
              "      <th></th>\n",
              "      <th>Age</th>\n",
              "      <th>Gender</th>\n",
              "      <th>TimeTotal</th>\n",
              "      <th>TimeAvg</th>\n",
              "      <th>ClicksTotal</th>\n",
              "      <th>ClicksAvg</th>\n",
              "      <th>PurchasesTotal</th>\n",
              "      <th>PurchasesAvg</th>\n",
              "      <th>AdsTotal</th>\n",
              "      <th>AdsAvg</th>\n",
              "      <th>Premium</th>\n",
              "    </tr>\n",
              "  </thead>\n",
              "  <tbody>\n",
              "    <tr>\n",
              "      <th>0</th>\n",
              "      <td>27.058324</td>\n",
              "      <td>0</td>\n",
              "      <td>686.953176</td>\n",
              "      <td>36.716438</td>\n",
              "      <td>1366.0</td>\n",
              "      <td>108.0</td>\n",
              "      <td>9.514095e+05</td>\n",
              "      <td>71.742841</td>\n",
              "      <td>682.234899</td>\n",
              "      <td>7.476960</td>\n",
              "      <td>0</td>\n",
              "    </tr>\n",
              "    <tr>\n",
              "      <th>1</th>\n",
              "      <td>24.716483</td>\n",
              "      <td>1</td>\n",
              "      <td>9836.700023</td>\n",
              "      <td>50.579361</td>\n",
              "      <td>903.0</td>\n",
              "      <td>219.0</td>\n",
              "      <td>5.628822e+05</td>\n",
              "      <td>299.025416</td>\n",
              "      <td>223.137972</td>\n",
              "      <td>4.535376</td>\n",
              "      <td>0</td>\n",
              "    </tr>\n",
              "    <tr>\n",
              "      <th>2</th>\n",
              "      <td>24.588787</td>\n",
              "      <td>0</td>\n",
              "      <td>732.091851</td>\n",
              "      <td>25.711426</td>\n",
              "      <td>333.0</td>\n",
              "      <td>374.0</td>\n",
              "      <td>1.702305e+06</td>\n",
              "      <td>118.555490</td>\n",
              "      <td>453.233162</td>\n",
              "      <td>0.659920</td>\n",
              "      <td>0</td>\n",
              "    </tr>\n",
              "    <tr>\n",
              "      <th>3</th>\n",
              "      <td>25.619699</td>\n",
              "      <td>0</td>\n",
              "      <td>2807.789823</td>\n",
              "      <td>56.947566</td>\n",
              "      <td>27.0</td>\n",
              "      <td>185.0</td>\n",
              "      <td>1.382077e+06</td>\n",
              "      <td>14.608184</td>\n",
              "      <td>395.570572</td>\n",
              "      <td>7.654666</td>\n",
              "      <td>0</td>\n",
              "    </tr>\n",
              "    <tr>\n",
              "      <th>4</th>\n",
              "      <td>25.749110</td>\n",
              "      <td>1</td>\n",
              "      <td>3580.970905</td>\n",
              "      <td>13.555419</td>\n",
              "      <td>230.0</td>\n",
              "      <td>5.0</td>\n",
              "      <td>3.969985e+05</td>\n",
              "      <td>31.023685</td>\n",
              "      <td>1145.042085</td>\n",
              "      <td>3.270058</td>\n",
              "      <td>0</td>\n",
              "    </tr>\n",
              "    <tr>\n",
              "      <th>...</th>\n",
              "      <td>...</td>\n",
              "      <td>...</td>\n",
              "      <td>...</td>\n",
              "      <td>...</td>\n",
              "      <td>...</td>\n",
              "      <td>...</td>\n",
              "      <td>...</td>\n",
              "      <td>...</td>\n",
              "      <td>...</td>\n",
              "      <td>...</td>\n",
              "      <td>...</td>\n",
              "    </tr>\n",
              "    <tr>\n",
              "      <th>95</th>\n",
              "      <td>18.073433</td>\n",
              "      <td>1</td>\n",
              "      <td>12811.646836</td>\n",
              "      <td>39.078088</td>\n",
              "      <td>1034.0</td>\n",
              "      <td>62.0</td>\n",
              "      <td>5.248051e+05</td>\n",
              "      <td>229.838318</td>\n",
              "      <td>674.741876</td>\n",
              "      <td>5.738547</td>\n",
              "      <td>0</td>\n",
              "    </tr>\n",
              "    <tr>\n",
              "      <th>96</th>\n",
              "      <td>24.189735</td>\n",
              "      <td>0</td>\n",
              "      <td>24602.377689</td>\n",
              "      <td>21.099473</td>\n",
              "      <td>2169.0</td>\n",
              "      <td>211.0</td>\n",
              "      <td>2.674714e+05</td>\n",
              "      <td>27.391384</td>\n",
              "      <td>91.360327</td>\n",
              "      <td>5.410781</td>\n",
              "      <td>0</td>\n",
              "    </tr>\n",
              "    <tr>\n",
              "      <th>97</th>\n",
              "      <td>29.501760</td>\n",
              "      <td>0</td>\n",
              "      <td>12984.037726</td>\n",
              "      <td>14.638198</td>\n",
              "      <td>1148.0</td>\n",
              "      <td>44.0</td>\n",
              "      <td>5.163531e+05</td>\n",
              "      <td>174.320296</td>\n",
              "      <td>178.790845</td>\n",
              "      <td>6.715227</td>\n",
              "      <td>0</td>\n",
              "    </tr>\n",
              "    <tr>\n",
              "      <th>98</th>\n",
              "      <td>24.662502</td>\n",
              "      <td>0</td>\n",
              "      <td>19840.455252</td>\n",
              "      <td>28.730329</td>\n",
              "      <td>1428.0</td>\n",
              "      <td>65.0</td>\n",
              "      <td>2.854096e+04</td>\n",
              "      <td>269.701542</td>\n",
              "      <td>551.188697</td>\n",
              "      <td>4.433328</td>\n",
              "      <td>0</td>\n",
              "    </tr>\n",
              "    <tr>\n",
              "      <th>99</th>\n",
              "      <td>20.998991</td>\n",
              "      <td>1</td>\n",
              "      <td>18476.145779</td>\n",
              "      <td>68.032003</td>\n",
              "      <td>1245.0</td>\n",
              "      <td>29.0</td>\n",
              "      <td>1.858141e+06</td>\n",
              "      <td>340.792952</td>\n",
              "      <td>644.606043</td>\n",
              "      <td>9.723401</td>\n",
              "      <td>1</td>\n",
              "    </tr>\n",
              "  </tbody>\n",
              "</table>\n",
              "<p>100 rows × 11 columns</p>\n",
              "</div>\n",
              "      <button class=\"colab-df-convert\" onclick=\"convertToInteractive('df-b1f32a9c-6ead-47d3-b81f-0fba6a2b299c')\"\n",
              "              title=\"Convert this dataframe to an interactive table.\"\n",
              "              style=\"display:none;\">\n",
              "        \n",
              "  <svg xmlns=\"http://www.w3.org/2000/svg\" height=\"24px\"viewBox=\"0 0 24 24\"\n",
              "       width=\"24px\">\n",
              "    <path d=\"M0 0h24v24H0V0z\" fill=\"none\"/>\n",
              "    <path d=\"M18.56 5.44l.94 2.06.94-2.06 2.06-.94-2.06-.94-.94-2.06-.94 2.06-2.06.94zm-11 1L8.5 8.5l.94-2.06 2.06-.94-2.06-.94L8.5 2.5l-.94 2.06-2.06.94zm10 10l.94 2.06.94-2.06 2.06-.94-2.06-.94-.94-2.06-.94 2.06-2.06.94z\"/><path d=\"M17.41 7.96l-1.37-1.37c-.4-.4-.92-.59-1.43-.59-.52 0-1.04.2-1.43.59L10.3 9.45l-7.72 7.72c-.78.78-.78 2.05 0 2.83L4 21.41c.39.39.9.59 1.41.59.51 0 1.02-.2 1.41-.59l7.78-7.78 2.81-2.81c.8-.78.8-2.07 0-2.86zM5.41 20L4 18.59l7.72-7.72 1.47 1.35L5.41 20z\"/>\n",
              "  </svg>\n",
              "      </button>\n",
              "      \n",
              "  <style>\n",
              "    .colab-df-container {\n",
              "      display:flex;\n",
              "      flex-wrap:wrap;\n",
              "      gap: 12px;\n",
              "    }\n",
              "\n",
              "    .colab-df-convert {\n",
              "      background-color: #E8F0FE;\n",
              "      border: none;\n",
              "      border-radius: 50%;\n",
              "      cursor: pointer;\n",
              "      display: none;\n",
              "      fill: #1967D2;\n",
              "      height: 32px;\n",
              "      padding: 0 0 0 0;\n",
              "      width: 32px;\n",
              "    }\n",
              "\n",
              "    .colab-df-convert:hover {\n",
              "      background-color: #E2EBFA;\n",
              "      box-shadow: 0px 1px 2px rgba(60, 64, 67, 0.3), 0px 1px 3px 1px rgba(60, 64, 67, 0.15);\n",
              "      fill: #174EA6;\n",
              "    }\n",
              "\n",
              "    [theme=dark] .colab-df-convert {\n",
              "      background-color: #3B4455;\n",
              "      fill: #D2E3FC;\n",
              "    }\n",
              "\n",
              "    [theme=dark] .colab-df-convert:hover {\n",
              "      background-color: #434B5C;\n",
              "      box-shadow: 0px 1px 3px 1px rgba(0, 0, 0, 0.15);\n",
              "      filter: drop-shadow(0px 1px 2px rgba(0, 0, 0, 0.3));\n",
              "      fill: #FFFFFF;\n",
              "    }\n",
              "  </style>\n",
              "\n",
              "      <script>\n",
              "        const buttonEl =\n",
              "          document.querySelector('#df-b1f32a9c-6ead-47d3-b81f-0fba6a2b299c button.colab-df-convert');\n",
              "        buttonEl.style.display =\n",
              "          google.colab.kernel.accessAllowed ? 'block' : 'none';\n",
              "\n",
              "        async function convertToInteractive(key) {\n",
              "          const element = document.querySelector('#df-b1f32a9c-6ead-47d3-b81f-0fba6a2b299c');\n",
              "          const dataTable =\n",
              "            await google.colab.kernel.invokeFunction('convertToInteractive',\n",
              "                                                     [key], {});\n",
              "          if (!dataTable) return;\n",
              "\n",
              "          const docLinkHtml = 'Like what you see? Visit the ' +\n",
              "            '<a target=\"_blank\" href=https://colab.research.google.com/notebooks/data_table.ipynb>data table notebook</a>'\n",
              "            + ' to learn more about interactive tables.';\n",
              "          element.innerHTML = '';\n",
              "          dataTable['output_type'] = 'display_data';\n",
              "          await google.colab.output.renderOutput(dataTable, element);\n",
              "          const docLink = document.createElement('div');\n",
              "          docLink.innerHTML = docLinkHtml;\n",
              "          element.appendChild(docLink);\n",
              "        }\n",
              "      </script>\n",
              "    </div>\n",
              "  </div>\n",
              "  "
            ]
          },
          "metadata": {},
          "execution_count": 9
        }
      ]
    },
    {
      "cell_type": "markdown",
      "source": [
        "**Now that we have the data, let's get to training some classifiers**"
      ],
      "metadata": {
        "id": "Yuv3hMlL5cQl"
      }
    },
    {
      "cell_type": "code",
      "source": [
        "#Scaling the data\n",
        "\n",
        "from sklearn.preprocessing import MinMaxScaler\n",
        "\n",
        "scaler = MinMaxScaler().fit(data)\n",
        "\n",
        "data[:] = scaler.transform(data)\n",
        "data"
      ],
      "metadata": {
        "colab": {
          "base_uri": "https://localhost:8080/",
          "height": 424
        },
        "id": "AyoKdDpj5bEU",
        "outputId": "92643786-47c2-4cb1-9029-196cb02ca044"
      },
      "execution_count": 10,
      "outputs": [
        {
          "output_type": "execute_result",
          "data": {
            "text/plain": [
              "         Age  Gender  TimeTotal   TimeAvg  ClicksTotal  ClicksAvg  \\\n",
              "0   0.637828     0.0   0.018750  0.269306     0.344540   0.224066   \n",
              "1   0.528849     0.5   0.322558  0.371526     0.227503   0.454357   \n",
              "2   0.522906     0.0   0.020249  0.188159     0.083418   0.775934   \n",
              "3   0.570881     0.0   0.089170  0.418483     0.006067   0.383817   \n",
              "4   0.576903     0.5   0.114843  0.098524     0.057381   0.010373   \n",
              "..       ...     ...        ...       ...          ...        ...   \n",
              "95  0.219708     0.5   0.421338  0.286720     0.260617   0.128631   \n",
              "96  0.504336     0.0   0.812837  0.154152     0.547523   0.437759   \n",
              "97  0.751536     0.0   0.427062  0.106509     0.289434   0.091286   \n",
              "98  0.526337     0.0   0.654722  0.210419     0.360212   0.134855   \n",
              "99  0.355852     0.5   0.609422  0.500216     0.313953   0.060166   \n",
              "\n",
              "    PurchasesTotal  PurchasesAvg  AdsTotal    AdsAvg  Premium  \n",
              "0         0.338842      0.117249  0.526908  0.736932      0.0  \n",
              "1         0.199693      0.500387  0.171114  0.418942      0.0  \n",
              "2         0.607769      0.196163  0.349435  0.000000      0.0  \n",
              "3         0.493082      0.020936  0.304747  0.756142      0.0  \n",
              "4         0.140283      0.048608  0.885576  0.282160      0.0  \n",
              "..             ...           ...       ...       ...      ...  \n",
              "95        0.186056      0.383756  0.521101  0.549007      0.0  \n",
              "96        0.093894      0.042485  0.068989  0.513575      0.0  \n",
              "97        0.183029      0.290167  0.136746  0.654587      0.0  \n",
              "98        0.008323      0.450954  0.425349  0.407911      0.0  \n",
              "99        0.663581      0.570795  0.497746  0.979775      1.0  \n",
              "\n",
              "[100 rows x 11 columns]"
            ],
            "text/html": [
              "\n",
              "  <div id=\"df-5fedd890-8cba-4b88-a8cc-40f544936eab\">\n",
              "    <div class=\"colab-df-container\">\n",
              "      <div>\n",
              "<style scoped>\n",
              "    .dataframe tbody tr th:only-of-type {\n",
              "        vertical-align: middle;\n",
              "    }\n",
              "\n",
              "    .dataframe tbody tr th {\n",
              "        vertical-align: top;\n",
              "    }\n",
              "\n",
              "    .dataframe thead th {\n",
              "        text-align: right;\n",
              "    }\n",
              "</style>\n",
              "<table border=\"1\" class=\"dataframe\">\n",
              "  <thead>\n",
              "    <tr style=\"text-align: right;\">\n",
              "      <th></th>\n",
              "      <th>Age</th>\n",
              "      <th>Gender</th>\n",
              "      <th>TimeTotal</th>\n",
              "      <th>TimeAvg</th>\n",
              "      <th>ClicksTotal</th>\n",
              "      <th>ClicksAvg</th>\n",
              "      <th>PurchasesTotal</th>\n",
              "      <th>PurchasesAvg</th>\n",
              "      <th>AdsTotal</th>\n",
              "      <th>AdsAvg</th>\n",
              "      <th>Premium</th>\n",
              "    </tr>\n",
              "  </thead>\n",
              "  <tbody>\n",
              "    <tr>\n",
              "      <th>0</th>\n",
              "      <td>0.637828</td>\n",
              "      <td>0.0</td>\n",
              "      <td>0.018750</td>\n",
              "      <td>0.269306</td>\n",
              "      <td>0.344540</td>\n",
              "      <td>0.224066</td>\n",
              "      <td>0.338842</td>\n",
              "      <td>0.117249</td>\n",
              "      <td>0.526908</td>\n",
              "      <td>0.736932</td>\n",
              "      <td>0.0</td>\n",
              "    </tr>\n",
              "    <tr>\n",
              "      <th>1</th>\n",
              "      <td>0.528849</td>\n",
              "      <td>0.5</td>\n",
              "      <td>0.322558</td>\n",
              "      <td>0.371526</td>\n",
              "      <td>0.227503</td>\n",
              "      <td>0.454357</td>\n",
              "      <td>0.199693</td>\n",
              "      <td>0.500387</td>\n",
              "      <td>0.171114</td>\n",
              "      <td>0.418942</td>\n",
              "      <td>0.0</td>\n",
              "    </tr>\n",
              "    <tr>\n",
              "      <th>2</th>\n",
              "      <td>0.522906</td>\n",
              "      <td>0.0</td>\n",
              "      <td>0.020249</td>\n",
              "      <td>0.188159</td>\n",
              "      <td>0.083418</td>\n",
              "      <td>0.775934</td>\n",
              "      <td>0.607769</td>\n",
              "      <td>0.196163</td>\n",
              "      <td>0.349435</td>\n",
              "      <td>0.000000</td>\n",
              "      <td>0.0</td>\n",
              "    </tr>\n",
              "    <tr>\n",
              "      <th>3</th>\n",
              "      <td>0.570881</td>\n",
              "      <td>0.0</td>\n",
              "      <td>0.089170</td>\n",
              "      <td>0.418483</td>\n",
              "      <td>0.006067</td>\n",
              "      <td>0.383817</td>\n",
              "      <td>0.493082</td>\n",
              "      <td>0.020936</td>\n",
              "      <td>0.304747</td>\n",
              "      <td>0.756142</td>\n",
              "      <td>0.0</td>\n",
              "    </tr>\n",
              "    <tr>\n",
              "      <th>4</th>\n",
              "      <td>0.576903</td>\n",
              "      <td>0.5</td>\n",
              "      <td>0.114843</td>\n",
              "      <td>0.098524</td>\n",
              "      <td>0.057381</td>\n",
              "      <td>0.010373</td>\n",
              "      <td>0.140283</td>\n",
              "      <td>0.048608</td>\n",
              "      <td>0.885576</td>\n",
              "      <td>0.282160</td>\n",
              "      <td>0.0</td>\n",
              "    </tr>\n",
              "    <tr>\n",
              "      <th>...</th>\n",
              "      <td>...</td>\n",
              "      <td>...</td>\n",
              "      <td>...</td>\n",
              "      <td>...</td>\n",
              "      <td>...</td>\n",
              "      <td>...</td>\n",
              "      <td>...</td>\n",
              "      <td>...</td>\n",
              "      <td>...</td>\n",
              "      <td>...</td>\n",
              "      <td>...</td>\n",
              "    </tr>\n",
              "    <tr>\n",
              "      <th>95</th>\n",
              "      <td>0.219708</td>\n",
              "      <td>0.5</td>\n",
              "      <td>0.421338</td>\n",
              "      <td>0.286720</td>\n",
              "      <td>0.260617</td>\n",
              "      <td>0.128631</td>\n",
              "      <td>0.186056</td>\n",
              "      <td>0.383756</td>\n",
              "      <td>0.521101</td>\n",
              "      <td>0.549007</td>\n",
              "      <td>0.0</td>\n",
              "    </tr>\n",
              "    <tr>\n",
              "      <th>96</th>\n",
              "      <td>0.504336</td>\n",
              "      <td>0.0</td>\n",
              "      <td>0.812837</td>\n",
              "      <td>0.154152</td>\n",
              "      <td>0.547523</td>\n",
              "      <td>0.437759</td>\n",
              "      <td>0.093894</td>\n",
              "      <td>0.042485</td>\n",
              "      <td>0.068989</td>\n",
              "      <td>0.513575</td>\n",
              "      <td>0.0</td>\n",
              "    </tr>\n",
              "    <tr>\n",
              "      <th>97</th>\n",
              "      <td>0.751536</td>\n",
              "      <td>0.0</td>\n",
              "      <td>0.427062</td>\n",
              "      <td>0.106509</td>\n",
              "      <td>0.289434</td>\n",
              "      <td>0.091286</td>\n",
              "      <td>0.183029</td>\n",
              "      <td>0.290167</td>\n",
              "      <td>0.136746</td>\n",
              "      <td>0.654587</td>\n",
              "      <td>0.0</td>\n",
              "    </tr>\n",
              "    <tr>\n",
              "      <th>98</th>\n",
              "      <td>0.526337</td>\n",
              "      <td>0.0</td>\n",
              "      <td>0.654722</td>\n",
              "      <td>0.210419</td>\n",
              "      <td>0.360212</td>\n",
              "      <td>0.134855</td>\n",
              "      <td>0.008323</td>\n",
              "      <td>0.450954</td>\n",
              "      <td>0.425349</td>\n",
              "      <td>0.407911</td>\n",
              "      <td>0.0</td>\n",
              "    </tr>\n",
              "    <tr>\n",
              "      <th>99</th>\n",
              "      <td>0.355852</td>\n",
              "      <td>0.5</td>\n",
              "      <td>0.609422</td>\n",
              "      <td>0.500216</td>\n",
              "      <td>0.313953</td>\n",
              "      <td>0.060166</td>\n",
              "      <td>0.663581</td>\n",
              "      <td>0.570795</td>\n",
              "      <td>0.497746</td>\n",
              "      <td>0.979775</td>\n",
              "      <td>1.0</td>\n",
              "    </tr>\n",
              "  </tbody>\n",
              "</table>\n",
              "<p>100 rows × 11 columns</p>\n",
              "</div>\n",
              "      <button class=\"colab-df-convert\" onclick=\"convertToInteractive('df-5fedd890-8cba-4b88-a8cc-40f544936eab')\"\n",
              "              title=\"Convert this dataframe to an interactive table.\"\n",
              "              style=\"display:none;\">\n",
              "        \n",
              "  <svg xmlns=\"http://www.w3.org/2000/svg\" height=\"24px\"viewBox=\"0 0 24 24\"\n",
              "       width=\"24px\">\n",
              "    <path d=\"M0 0h24v24H0V0z\" fill=\"none\"/>\n",
              "    <path d=\"M18.56 5.44l.94 2.06.94-2.06 2.06-.94-2.06-.94-.94-2.06-.94 2.06-2.06.94zm-11 1L8.5 8.5l.94-2.06 2.06-.94-2.06-.94L8.5 2.5l-.94 2.06-2.06.94zm10 10l.94 2.06.94-2.06 2.06-.94-2.06-.94-.94-2.06-.94 2.06-2.06.94z\"/><path d=\"M17.41 7.96l-1.37-1.37c-.4-.4-.92-.59-1.43-.59-.52 0-1.04.2-1.43.59L10.3 9.45l-7.72 7.72c-.78.78-.78 2.05 0 2.83L4 21.41c.39.39.9.59 1.41.59.51 0 1.02-.2 1.41-.59l7.78-7.78 2.81-2.81c.8-.78.8-2.07 0-2.86zM5.41 20L4 18.59l7.72-7.72 1.47 1.35L5.41 20z\"/>\n",
              "  </svg>\n",
              "      </button>\n",
              "      \n",
              "  <style>\n",
              "    .colab-df-container {\n",
              "      display:flex;\n",
              "      flex-wrap:wrap;\n",
              "      gap: 12px;\n",
              "    }\n",
              "\n",
              "    .colab-df-convert {\n",
              "      background-color: #E8F0FE;\n",
              "      border: none;\n",
              "      border-radius: 50%;\n",
              "      cursor: pointer;\n",
              "      display: none;\n",
              "      fill: #1967D2;\n",
              "      height: 32px;\n",
              "      padding: 0 0 0 0;\n",
              "      width: 32px;\n",
              "    }\n",
              "\n",
              "    .colab-df-convert:hover {\n",
              "      background-color: #E2EBFA;\n",
              "      box-shadow: 0px 1px 2px rgba(60, 64, 67, 0.3), 0px 1px 3px 1px rgba(60, 64, 67, 0.15);\n",
              "      fill: #174EA6;\n",
              "    }\n",
              "\n",
              "    [theme=dark] .colab-df-convert {\n",
              "      background-color: #3B4455;\n",
              "      fill: #D2E3FC;\n",
              "    }\n",
              "\n",
              "    [theme=dark] .colab-df-convert:hover {\n",
              "      background-color: #434B5C;\n",
              "      box-shadow: 0px 1px 3px 1px rgba(0, 0, 0, 0.15);\n",
              "      filter: drop-shadow(0px 1px 2px rgba(0, 0, 0, 0.3));\n",
              "      fill: #FFFFFF;\n",
              "    }\n",
              "  </style>\n",
              "\n",
              "      <script>\n",
              "        const buttonEl =\n",
              "          document.querySelector('#df-5fedd890-8cba-4b88-a8cc-40f544936eab button.colab-df-convert');\n",
              "        buttonEl.style.display =\n",
              "          google.colab.kernel.accessAllowed ? 'block' : 'none';\n",
              "\n",
              "        async function convertToInteractive(key) {\n",
              "          const element = document.querySelector('#df-5fedd890-8cba-4b88-a8cc-40f544936eab');\n",
              "          const dataTable =\n",
              "            await google.colab.kernel.invokeFunction('convertToInteractive',\n",
              "                                                     [key], {});\n",
              "          if (!dataTable) return;\n",
              "\n",
              "          const docLinkHtml = 'Like what you see? Visit the ' +\n",
              "            '<a target=\"_blank\" href=https://colab.research.google.com/notebooks/data_table.ipynb>data table notebook</a>'\n",
              "            + ' to learn more about interactive tables.';\n",
              "          element.innerHTML = '';\n",
              "          dataTable['output_type'] = 'display_data';\n",
              "          await google.colab.output.renderOutput(dataTable, element);\n",
              "          const docLink = document.createElement('div');\n",
              "          docLink.innerHTML = docLinkHtml;\n",
              "          element.appendChild(docLink);\n",
              "        }\n",
              "      </script>\n",
              "    </div>\n",
              "  </div>\n",
              "  "
            ]
          },
          "metadata": {},
          "execution_count": 10
        }
      ]
    },
    {
      "cell_type": "code",
      "source": [
        "#Train test split (ratio = 25/75))\n",
        "from sklearn.model_selection import train_test_split\n",
        "\n",
        "features_train, features_test, target_train, target_test = train_test_split(data.loc[:, data.columns!='Premium'], #feature columns\n",
        "                                                                            data[\"Premium\"], #target labels\n",
        "                                                                            test_size=0.25, #train/test ratio\n",
        "                                                                            random_state=99 #random seed\n",
        "                                                                            )"
      ],
      "metadata": {
        "id": "bjPRUwjd6j4M"
      },
      "execution_count": 12,
      "outputs": []
    },
    {
      "cell_type": "code",
      "source": [
        "features_train #Note that 'Premium' is excluded "
      ],
      "metadata": {
        "colab": {
          "base_uri": "https://localhost:8080/",
          "height": 424
        },
        "id": "rGBYthWO7Mdd",
        "outputId": "4137ccc7-4583-42a5-8762-cd443bc26d83"
      },
      "execution_count": 13,
      "outputs": [
        {
          "output_type": "execute_result",
          "data": {
            "text/plain": [
              "         Age  Gender  TimeTotal   TimeAvg  ClicksTotal  ClicksAvg  \\\n",
              "92  0.433863     0.5   0.163229  0.561949     0.102882   0.120332   \n",
              "46  0.536156     0.5   0.100720  0.302650     0.000000   0.161826   \n",
              "3   0.570881     0.0   0.089170  0.418483     0.006067   0.383817   \n",
              "86  0.959927     0.5   0.558713  0.212102     0.226744   0.045643   \n",
              "58  0.903722     1.0   0.043031  0.652427     0.236350   0.004149   \n",
              "..       ...     ...        ...       ...          ...        ...   \n",
              "73  0.650002     0.5   0.126604  0.195756     0.108948   0.114108   \n",
              "40  0.445945     0.5   0.000000  0.160150     0.130435   0.209544   \n",
              "57  0.200019     0.5   0.007027  0.217027     0.095551   0.307054   \n",
              "35  0.474318     0.0   0.424784  0.331382     0.257331   0.417012   \n",
              "1   0.528849     0.5   0.322558  0.371526     0.227503   0.454357   \n",
              "\n",
              "    PurchasesTotal  PurchasesAvg  AdsTotal    AdsAvg  \n",
              "92        0.032404      0.065733  0.571779  0.588803  \n",
              "46        0.161038      0.171242  0.714897  0.761353  \n",
              "3         0.493082      0.020936  0.304747  0.756142  \n",
              "86        0.190924      0.554112  0.148610  0.697488  \n",
              "58        0.269856      0.884758  0.543552  0.273453  \n",
              "..             ...           ...       ...       ...  \n",
              "73        0.127119      0.305940  0.632541  0.706229  \n",
              "40        0.223472      0.231198  0.287264  0.214528  \n",
              "57        0.178897      0.092785  0.241577  0.163379  \n",
              "35        0.659973      0.585276  0.086127  0.273390  \n",
              "1         0.199693      0.500387  0.171114  0.418942  \n",
              "\n",
              "[75 rows x 10 columns]"
            ],
            "text/html": [
              "\n",
              "  <div id=\"df-8fe50565-196d-4f5e-b47f-81328a146271\">\n",
              "    <div class=\"colab-df-container\">\n",
              "      <div>\n",
              "<style scoped>\n",
              "    .dataframe tbody tr th:only-of-type {\n",
              "        vertical-align: middle;\n",
              "    }\n",
              "\n",
              "    .dataframe tbody tr th {\n",
              "        vertical-align: top;\n",
              "    }\n",
              "\n",
              "    .dataframe thead th {\n",
              "        text-align: right;\n",
              "    }\n",
              "</style>\n",
              "<table border=\"1\" class=\"dataframe\">\n",
              "  <thead>\n",
              "    <tr style=\"text-align: right;\">\n",
              "      <th></th>\n",
              "      <th>Age</th>\n",
              "      <th>Gender</th>\n",
              "      <th>TimeTotal</th>\n",
              "      <th>TimeAvg</th>\n",
              "      <th>ClicksTotal</th>\n",
              "      <th>ClicksAvg</th>\n",
              "      <th>PurchasesTotal</th>\n",
              "      <th>PurchasesAvg</th>\n",
              "      <th>AdsTotal</th>\n",
              "      <th>AdsAvg</th>\n",
              "    </tr>\n",
              "  </thead>\n",
              "  <tbody>\n",
              "    <tr>\n",
              "      <th>92</th>\n",
              "      <td>0.433863</td>\n",
              "      <td>0.5</td>\n",
              "      <td>0.163229</td>\n",
              "      <td>0.561949</td>\n",
              "      <td>0.102882</td>\n",
              "      <td>0.120332</td>\n",
              "      <td>0.032404</td>\n",
              "      <td>0.065733</td>\n",
              "      <td>0.571779</td>\n",
              "      <td>0.588803</td>\n",
              "    </tr>\n",
              "    <tr>\n",
              "      <th>46</th>\n",
              "      <td>0.536156</td>\n",
              "      <td>0.5</td>\n",
              "      <td>0.100720</td>\n",
              "      <td>0.302650</td>\n",
              "      <td>0.000000</td>\n",
              "      <td>0.161826</td>\n",
              "      <td>0.161038</td>\n",
              "      <td>0.171242</td>\n",
              "      <td>0.714897</td>\n",
              "      <td>0.761353</td>\n",
              "    </tr>\n",
              "    <tr>\n",
              "      <th>3</th>\n",
              "      <td>0.570881</td>\n",
              "      <td>0.0</td>\n",
              "      <td>0.089170</td>\n",
              "      <td>0.418483</td>\n",
              "      <td>0.006067</td>\n",
              "      <td>0.383817</td>\n",
              "      <td>0.493082</td>\n",
              "      <td>0.020936</td>\n",
              "      <td>0.304747</td>\n",
              "      <td>0.756142</td>\n",
              "    </tr>\n",
              "    <tr>\n",
              "      <th>86</th>\n",
              "      <td>0.959927</td>\n",
              "      <td>0.5</td>\n",
              "      <td>0.558713</td>\n",
              "      <td>0.212102</td>\n",
              "      <td>0.226744</td>\n",
              "      <td>0.045643</td>\n",
              "      <td>0.190924</td>\n",
              "      <td>0.554112</td>\n",
              "      <td>0.148610</td>\n",
              "      <td>0.697488</td>\n",
              "    </tr>\n",
              "    <tr>\n",
              "      <th>58</th>\n",
              "      <td>0.903722</td>\n",
              "      <td>1.0</td>\n",
              "      <td>0.043031</td>\n",
              "      <td>0.652427</td>\n",
              "      <td>0.236350</td>\n",
              "      <td>0.004149</td>\n",
              "      <td>0.269856</td>\n",
              "      <td>0.884758</td>\n",
              "      <td>0.543552</td>\n",
              "      <td>0.273453</td>\n",
              "    </tr>\n",
              "    <tr>\n",
              "      <th>...</th>\n",
              "      <td>...</td>\n",
              "      <td>...</td>\n",
              "      <td>...</td>\n",
              "      <td>...</td>\n",
              "      <td>...</td>\n",
              "      <td>...</td>\n",
              "      <td>...</td>\n",
              "      <td>...</td>\n",
              "      <td>...</td>\n",
              "      <td>...</td>\n",
              "    </tr>\n",
              "    <tr>\n",
              "      <th>73</th>\n",
              "      <td>0.650002</td>\n",
              "      <td>0.5</td>\n",
              "      <td>0.126604</td>\n",
              "      <td>0.195756</td>\n",
              "      <td>0.108948</td>\n",
              "      <td>0.114108</td>\n",
              "      <td>0.127119</td>\n",
              "      <td>0.305940</td>\n",
              "      <td>0.632541</td>\n",
              "      <td>0.706229</td>\n",
              "    </tr>\n",
              "    <tr>\n",
              "      <th>40</th>\n",
              "      <td>0.445945</td>\n",
              "      <td>0.5</td>\n",
              "      <td>0.000000</td>\n",
              "      <td>0.160150</td>\n",
              "      <td>0.130435</td>\n",
              "      <td>0.209544</td>\n",
              "      <td>0.223472</td>\n",
              "      <td>0.231198</td>\n",
              "      <td>0.287264</td>\n",
              "      <td>0.214528</td>\n",
              "    </tr>\n",
              "    <tr>\n",
              "      <th>57</th>\n",
              "      <td>0.200019</td>\n",
              "      <td>0.5</td>\n",
              "      <td>0.007027</td>\n",
              "      <td>0.217027</td>\n",
              "      <td>0.095551</td>\n",
              "      <td>0.307054</td>\n",
              "      <td>0.178897</td>\n",
              "      <td>0.092785</td>\n",
              "      <td>0.241577</td>\n",
              "      <td>0.163379</td>\n",
              "    </tr>\n",
              "    <tr>\n",
              "      <th>35</th>\n",
              "      <td>0.474318</td>\n",
              "      <td>0.0</td>\n",
              "      <td>0.424784</td>\n",
              "      <td>0.331382</td>\n",
              "      <td>0.257331</td>\n",
              "      <td>0.417012</td>\n",
              "      <td>0.659973</td>\n",
              "      <td>0.585276</td>\n",
              "      <td>0.086127</td>\n",
              "      <td>0.273390</td>\n",
              "    </tr>\n",
              "    <tr>\n",
              "      <th>1</th>\n",
              "      <td>0.528849</td>\n",
              "      <td>0.5</td>\n",
              "      <td>0.322558</td>\n",
              "      <td>0.371526</td>\n",
              "      <td>0.227503</td>\n",
              "      <td>0.454357</td>\n",
              "      <td>0.199693</td>\n",
              "      <td>0.500387</td>\n",
              "      <td>0.171114</td>\n",
              "      <td>0.418942</td>\n",
              "    </tr>\n",
              "  </tbody>\n",
              "</table>\n",
              "<p>75 rows × 10 columns</p>\n",
              "</div>\n",
              "      <button class=\"colab-df-convert\" onclick=\"convertToInteractive('df-8fe50565-196d-4f5e-b47f-81328a146271')\"\n",
              "              title=\"Convert this dataframe to an interactive table.\"\n",
              "              style=\"display:none;\">\n",
              "        \n",
              "  <svg xmlns=\"http://www.w3.org/2000/svg\" height=\"24px\"viewBox=\"0 0 24 24\"\n",
              "       width=\"24px\">\n",
              "    <path d=\"M0 0h24v24H0V0z\" fill=\"none\"/>\n",
              "    <path d=\"M18.56 5.44l.94 2.06.94-2.06 2.06-.94-2.06-.94-.94-2.06-.94 2.06-2.06.94zm-11 1L8.5 8.5l.94-2.06 2.06-.94-2.06-.94L8.5 2.5l-.94 2.06-2.06.94zm10 10l.94 2.06.94-2.06 2.06-.94-2.06-.94-.94-2.06-.94 2.06-2.06.94z\"/><path d=\"M17.41 7.96l-1.37-1.37c-.4-.4-.92-.59-1.43-.59-.52 0-1.04.2-1.43.59L10.3 9.45l-7.72 7.72c-.78.78-.78 2.05 0 2.83L4 21.41c.39.39.9.59 1.41.59.51 0 1.02-.2 1.41-.59l7.78-7.78 2.81-2.81c.8-.78.8-2.07 0-2.86zM5.41 20L4 18.59l7.72-7.72 1.47 1.35L5.41 20z\"/>\n",
              "  </svg>\n",
              "      </button>\n",
              "      \n",
              "  <style>\n",
              "    .colab-df-container {\n",
              "      display:flex;\n",
              "      flex-wrap:wrap;\n",
              "      gap: 12px;\n",
              "    }\n",
              "\n",
              "    .colab-df-convert {\n",
              "      background-color: #E8F0FE;\n",
              "      border: none;\n",
              "      border-radius: 50%;\n",
              "      cursor: pointer;\n",
              "      display: none;\n",
              "      fill: #1967D2;\n",
              "      height: 32px;\n",
              "      padding: 0 0 0 0;\n",
              "      width: 32px;\n",
              "    }\n",
              "\n",
              "    .colab-df-convert:hover {\n",
              "      background-color: #E2EBFA;\n",
              "      box-shadow: 0px 1px 2px rgba(60, 64, 67, 0.3), 0px 1px 3px 1px rgba(60, 64, 67, 0.15);\n",
              "      fill: #174EA6;\n",
              "    }\n",
              "\n",
              "    [theme=dark] .colab-df-convert {\n",
              "      background-color: #3B4455;\n",
              "      fill: #D2E3FC;\n",
              "    }\n",
              "\n",
              "    [theme=dark] .colab-df-convert:hover {\n",
              "      background-color: #434B5C;\n",
              "      box-shadow: 0px 1px 3px 1px rgba(0, 0, 0, 0.15);\n",
              "      filter: drop-shadow(0px 1px 2px rgba(0, 0, 0, 0.3));\n",
              "      fill: #FFFFFF;\n",
              "    }\n",
              "  </style>\n",
              "\n",
              "      <script>\n",
              "        const buttonEl =\n",
              "          document.querySelector('#df-8fe50565-196d-4f5e-b47f-81328a146271 button.colab-df-convert');\n",
              "        buttonEl.style.display =\n",
              "          google.colab.kernel.accessAllowed ? 'block' : 'none';\n",
              "\n",
              "        async function convertToInteractive(key) {\n",
              "          const element = document.querySelector('#df-8fe50565-196d-4f5e-b47f-81328a146271');\n",
              "          const dataTable =\n",
              "            await google.colab.kernel.invokeFunction('convertToInteractive',\n",
              "                                                     [key], {});\n",
              "          if (!dataTable) return;\n",
              "\n",
              "          const docLinkHtml = 'Like what you see? Visit the ' +\n",
              "            '<a target=\"_blank\" href=https://colab.research.google.com/notebooks/data_table.ipynb>data table notebook</a>'\n",
              "            + ' to learn more about interactive tables.';\n",
              "          element.innerHTML = '';\n",
              "          dataTable['output_type'] = 'display_data';\n",
              "          await google.colab.output.renderOutput(dataTable, element);\n",
              "          const docLink = document.createElement('div');\n",
              "          docLink.innerHTML = docLinkHtml;\n",
              "          element.appendChild(docLink);\n",
              "        }\n",
              "      </script>\n",
              "    </div>\n",
              "  </div>\n",
              "  "
            ]
          },
          "metadata": {},
          "execution_count": 13
        }
      ]
    },
    {
      "cell_type": "code",
      "source": [
        "target_train  #Only the target labels are included here"
      ],
      "metadata": {
        "colab": {
          "base_uri": "https://localhost:8080/"
        },
        "id": "YeTeN0BL7qEm",
        "outputId": "fa59c62b-e4d1-4fe9-f416-05a3ae103d0a"
      },
      "execution_count": 14,
      "outputs": [
        {
          "output_type": "execute_result",
          "data": {
            "text/plain": [
              "92    0.0\n",
              "46    0.0\n",
              "3     0.0\n",
              "86    0.0\n",
              "58    0.0\n",
              "     ... \n",
              "73    0.0\n",
              "40    0.0\n",
              "57    1.0\n",
              "35    0.0\n",
              "1     0.0\n",
              "Name: Premium, Length: 75, dtype: float64"
            ]
          },
          "metadata": {},
          "execution_count": 14
        }
      ]
    },
    {
      "cell_type": "markdown",
      "source": [
        "**Lets visualize some data now**"
      ],
      "metadata": {
        "id": "zkmh12wC8n4c"
      }
    },
    {
      "cell_type": "markdown",
      "source": [
        "**Fit, predict, evaluate**"
      ],
      "metadata": {
        "id": "xUqKvUKK_qZE"
      }
    },
    {
      "cell_type": "code",
      "source": [
        "# fitting k-NN on the training set\n",
        "\n",
        "from sklearn.neighbors import KNeighborsClassifier\n",
        "\n",
        "knn = KNeighborsClassifier(n_neighbors=5, weights=\"uniform\").fit(features_train, target_train)"
      ],
      "metadata": {
        "id": "Bzhd8v9K_pld"
      },
      "execution_count": 15,
      "outputs": []
    },
    {
      "cell_type": "code",
      "source": [
        "# concatenating features and target to make plotting easier\n",
        "\n",
        "train = pd.concat([features_train, target_train], \n",
        "                       axis=1)\n",
        "test = pd.concat([features_test, target_test], \n",
        "                      axis=1)\n",
        "\n",
        "train.reset_index(inplace=True, drop=True)\n",
        "test.reset_index(inplace=True, drop=True)"
      ],
      "metadata": {
        "id": "FmYATOetGixf"
      },
      "execution_count": 16,
      "outputs": []
    },
    {
      "cell_type": "code",
      "source": [
        "# plotting each feature against the target \n",
        "\n",
        "fig, axes = plt.subplots(3, figsize=(10,15))\n",
        "\n",
        "for i in range(3):\n",
        "    if len(train.iloc[:,i].value_counts()) > 3:\n",
        "      sns.histplot(ax=axes[i],x=train.columns[i], data=train, hue=\"Premium\")\n",
        "    else:\n",
        "      sns.countplot(ax=axes[i], x=train.columns[i], data=train, hue='Premium') "
      ],
      "metadata": {
        "colab": {
          "base_uri": "https://localhost:8080/",
          "height": 883
        },
        "id": "3pYCjfyuGkoU",
        "outputId": "daef649d-8129-4945-e283-f60172ec9a55"
      },
      "execution_count": 17,
      "outputs": [
        {
          "output_type": "display_data",
          "data": {
            "text/plain": [
              "<Figure size 720x1080 with 3 Axes>"
            ],
            "image/png": "[encoded data removed]"
          },
          "metadata": {}
        }
      ]
    },
    {
      "cell_type": "code",
      "source": [
        "import warnings\n",
        "warnings.filterwarnings('ignore') #don't tell anyone i used this function, its pretty bad practise :,^)\n",
        "\n",
        "# what would our model predict for a new customer we know the following things of?\n",
        "age = 25\n",
        "gender = 0\n",
        "time_total = 200\n",
        "time_average = 10\n",
        "purchases_total = 400\n",
        "purchases_average = 30\n",
        "clicks_total = 1000\n",
        "clicks_average = 100\n",
        "ads_total = 300\n",
        "ads_average = 5\n",
        "subscription = 0 #this is unknown, but for the purpose of using the same minmax scaler i set it to 0 here\n",
        "\n",
        "new_customer = np.array([age, gender, time_total, time_average, purchases_total, purchases_average, clicks_total, clicks_average, ads_total, ads_average, subscription])\n",
        "\n",
        "#scaler = MinMaxScaler().fit(new_customer)\n",
        "new_customer = scaler.transform(new_customer.reshape(1,-1))\n",
        " \n",
        "new_customer = new_customer[0][0:10]\n",
        "\n",
        "outcome = knn.predict(new_customer.reshape(1,-1))\n",
        "\n",
        "def subscribed(x):\n",
        "  if x == 0:\n",
        "    return \"This person is not likely to be a premium user!\"\n",
        "\n",
        "  if x == 1:\n",
        "    return \"This person is likely a premium user!\"\n",
        "\n",
        "print(\"Test prediction: {}, {}\".format(outcome, subscribed(outcome)) )"
      ],
      "metadata": {
        "colab": {
          "base_uri": "https://localhost:8080/"
        },
        "id": "Ojjs13GF_yMe",
        "outputId": "f11a531b-95c9-4c1f-8d10-4393cd8a554c"
      },
      "execution_count": 45,
      "outputs": [
        {
          "output_type": "stream",
          "name": "stdout",
          "text": [
            "Test prediction: [0.], This person is not likely to be a premium user!\n"
          ]
        }
      ]
    },
    {
      "cell_type": "code",
      "source": [
        "#Model evaluation\n",
        "\n",
        "print(f\"Training set score: {knn.score(features_train, target_train):.2f}\")\n",
        "print(f\"Test set score: {knn.score(features_test, target_test):.2f}\")"
      ],
      "metadata": {
        "colab": {
          "base_uri": "https://localhost:8080/"
        },
        "id": "QFBoXJ37K593",
        "outputId": "1592cd29-e0a6-447b-b821-04fa7c6d246d"
      },
      "execution_count": 46,
      "outputs": [
        {
          "output_type": "stream",
          "name": "stdout",
          "text": [
            "Training set score: 0.95\n",
            "Test set score: 0.96\n"
          ]
        }
      ]
    },
    {
      "cell_type": "code",
      "source": [
        "#Number of neighbours vs accuracy score\n",
        "neighbors_settings = [k for k in range(1,14,2)]\n",
        "scores = []\n",
        "\n",
        "for k in neighbors_settings:\n",
        "    knn = KNeighborsClassifier(n_neighbors = k)\n",
        "    knn.fit(features_train, target_train)\n",
        "    scores.append(knn.score(features_test, target_test))\n",
        "    \n",
        "settingsPlot = sns.lineplot(x=neighbors_settings, y=scores)\n",
        "settingsPlot.set_xticks(neighbors_settings)\n",
        "settingsPlot.set_xlabel(\"k\")\n",
        "settingsPlot.set_ylabel(\"Score\")\n",
        "\n",
        "settingsPlot"
      ],
      "metadata": {
        "colab": {
          "base_uri": "https://localhost:8080/",
          "height": 302
        },
        "id": "Hly2_I2LLDC9",
        "outputId": "a9f4f925-606f-4c01-ecdd-4a1e84204160"
      },
      "execution_count": 47,
      "outputs": [
        {
          "output_type": "execute_result",
          "data": {
            "text/plain": [
              "<matplotlib.axes._subplots.AxesSubplot at 0x7f8b3338ed10>"
            ]
          },
          "metadata": {},
          "execution_count": 47
        },
        {
          "output_type": "display_data",
          "data": {
            "text/plain": [
              "<Figure size 432x288 with 1 Axes>"
            ],
            "image/png": "[encoded data removed]"
          },
          "metadata": {}
        }
      ]
    }
  ]
}